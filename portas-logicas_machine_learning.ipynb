{
  "nbformat": 4,
  "nbformat_minor": 0,
  "metadata": {
    "colab": {
      "provenance": []
    },
    "kernelspec": {
      "name": "python3",
      "display_name": "Python 3"
    },
    "language_info": {
      "name": "python"
    }
  },
  "cells": [
    {
      "cell_type": "code",
      "execution_count": null,
      "metadata": {
        "colab": {
          "base_uri": "https://localhost:8080/"
        },
        "id": "6QLWV7xewMok",
        "outputId": "51394c16-7f43-44bd-d350-6daa5fd25f50"
      },
      "outputs": [
        {
          "output_type": "stream",
          "name": "stdout",
          "text": [
            "Pesos atualizados [0.2 0.2]\n",
            "Pesos atualizados [0.4 0.4]\n",
            "Pesos atualizados [0.6 0.6]\n",
            "Pesos atualizados [0.6 0.6]\n",
            "Pesos atualizados [0.6 0.6]\n",
            "Pesos atualizados [0.6 0.6]\n",
            "Pesos atualizados [0.6 0.6]\n",
            "Pesos atualizados [0.6 0.6]\n",
            "Pesos atualizados [0.6 0.6]\n",
            "Pesos atualizados [0.6 0.6]\n",
            "A rede está treinada!\n",
            "Testando para a entrada [0 0]: Resultado: 0\n",
            "Testando para a entrada [0 1]: Resultado: 0\n",
            "Testando para a entrada [1 0]: Resultado: 0\n",
            "Testando para a entrada [1 1]: Resultado: 1\n"
          ]
        }
      ],
      "source": [
        "import numpy as np\n",
        "\n",
        "# Dados de entrada e saída para a operação AND\n",
        "inputs = np.array([[0, 0], [0, 1], [1, 0], [1, 1]])\n",
        "target = np.array([0, 0, 0, 1])\n",
        "# na OR é 0,1,1,1 ai as saidas disso\n",
        "\n",
        "# Inicialização dos pesos e bias\n",
        "weights = np.array([0,0])\n",
        "\n",
        "# Taxa de aprendizado\n",
        "learning_rate = 0.2\n",
        "\n",
        "erro = 0\n",
        "\n",
        "for n in range(10):\n",
        "  saidacalculada = np.dot(inputs, weights)\n",
        "\n",
        "  for n in range(4):\n",
        "    if (saidacalculada[n] >= 1):\n",
        "      saidacalculada[n] = 1\n",
        "    else:\n",
        "      saidacalculada[n] = 0\n",
        "\n",
        "  erro = (target - saidacalculada)\n",
        "  weights = weights + learning_rate * np.dot(inputs.T, erro)\n",
        "\n",
        "  print('Pesos atualizados', weights)\n",
        "\n",
        "print('A rede está treinada!')\n",
        "\n",
        "# -------------------------------------------------------------------------------------\n",
        "# -------------------------------------------------------------------------------------\n",
        "\n",
        "def calculasaida(teste):\n",
        "  s = teste.dot(weights)\n",
        "  return step(s)\n",
        "\n",
        "def step(soma):\n",
        "  if(soma>1):\n",
        "    return 1\n",
        "  return 0\n",
        "\n",
        "\n",
        "# -------------------------------------------------------------------------------------\n",
        "# -------------------------------------------------------------------------------------\n",
        "\n",
        "for n in range(4):\n",
        "  teste = calculasaida(inputs[n])\n",
        "  print(f'Testando para a entrada {inputs[n]}: Resultado: {teste}')"
      ]
    }
  ]
}